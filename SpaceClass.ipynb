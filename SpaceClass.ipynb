{
 "cells": [
  {
   "cell_type": "code",
   "execution_count": 9,
   "id": "53447e7e",
   "metadata": {},
   "outputs": [
    {
     "name": "stdout",
     "output_type": "stream",
     "text": [
      "Found 205 images belonging to 4 classes.\n",
      "Found 50 images belonging to 4 classes.\n",
      "{'Galaxies': 0, 'Others': 1, 'Planets': 2, 'Stars': 3}\n"
     ]
    }
   ],
   "source": [
    "import numpy as np\n",
    "import tensorflow as tf\n",
    "from tensorflow.keras.preprocessing import image\n",
    "from tensorflow.keras.preprocessing.image import ImageDataGenerator\n",
    "from tensorflow import keras\n",
    "from tensorflow.keras import layers\n",
    "\n",
    "data_dir = \"Images\"\n",
    "\n",
    "img_height = 224\n",
    "img_width = 224\n",
    "batch_size = 32  \n",
    "\n",
    "train_data_gen = ImageDataGenerator(\n",
    "    rescale=1.0/255,\n",
    "    validation_split=0.2\n",
    ")\n",
    "\n",
    "train_data = train_data_gen.flow_from_directory(\n",
    "    data_dir,\n",
    "    target_size=(img_height, img_width),\n",
    "    batch_size=batch_size,\n",
    "    class_mode=\"categorical\",\n",
    "    subset=\"training\"\n",
    ")\n",
    "\n",
    "validation_data = train_data_gen.flow_from_directory(\n",
    "    data_dir,\n",
    "    target_size=(img_height, img_width),\n",
    "    batch_size=batch_size,\n",
    "    class_mode=\"categorical\",\n",
    "    subset=\"validation\"\n",
    ")\n",
    "\n",
    "val_labels = validation_data.classes\n",
    "\n",
    "class_names = train_data.class_indices\n",
    "print(class_names)"
   ]
  },
  {
   "cell_type": "code",
   "execution_count": 2,
   "id": "f3358e32",
   "metadata": {},
   "outputs": [
    {
     "name": "stdout",
     "output_type": "stream",
     "text": [
      "Epoch 1/15\n",
      "7/7 [==============================] - 9s 1s/step - loss: 2.2633 - accuracy: 0.3610 - val_loss: 1.3303 - val_accuracy: 0.3200\n",
      "Epoch 2/15\n",
      "7/7 [==============================] - 8s 1s/step - loss: 1.0555 - accuracy: 0.5268 - val_loss: 1.2203 - val_accuracy: 0.6400\n",
      "Epoch 3/15\n",
      "7/7 [==============================] - 8s 1s/step - loss: 0.8608 - accuracy: 0.6488 - val_loss: 0.9799 - val_accuracy: 0.6400\n",
      "Epoch 4/15\n",
      "7/7 [==============================] - 8s 1s/step - loss: 0.6339 - accuracy: 0.7366 - val_loss: 1.0960 - val_accuracy: 0.5600\n",
      "Epoch 5/15\n",
      "7/7 [==============================] - 8s 1s/step - loss: 0.4243 - accuracy: 0.8439 - val_loss: 1.1978 - val_accuracy: 0.6000\n",
      "Epoch 6/15\n",
      "7/7 [==============================] - 9s 1s/step - loss: 0.3200 - accuracy: 0.8878 - val_loss: 0.8030 - val_accuracy: 0.7000\n",
      "Epoch 7/15\n",
      "7/7 [==============================] - 8s 1s/step - loss: 0.2587 - accuracy: 0.9317 - val_loss: 0.8966 - val_accuracy: 0.6800\n",
      "Epoch 8/15\n",
      "7/7 [==============================] - 9s 1s/step - loss: 0.1333 - accuracy: 0.9659 - val_loss: 1.2294 - val_accuracy: 0.6400\n",
      "Epoch 9/15\n",
      "7/7 [==============================] - 8s 1s/step - loss: 0.1027 - accuracy: 0.9707 - val_loss: 1.4772 - val_accuracy: 0.7200\n",
      "Epoch 10/15\n",
      "7/7 [==============================] - 8s 1s/step - loss: 0.0879 - accuracy: 0.9756 - val_loss: 1.2617 - val_accuracy: 0.6200\n",
      "Epoch 11/15\n",
      "7/7 [==============================] - 8s 1s/step - loss: 0.0517 - accuracy: 0.9854 - val_loss: 1.3258 - val_accuracy: 0.6800\n",
      "Epoch 12/15\n",
      "7/7 [==============================] - 9s 1s/step - loss: 0.0616 - accuracy: 0.9951 - val_loss: 1.2901 - val_accuracy: 0.7000\n",
      "Epoch 13/15\n",
      "7/7 [==============================] - 9s 1s/step - loss: 0.0373 - accuracy: 0.9902 - val_loss: 1.6258 - val_accuracy: 0.6400\n",
      "Epoch 14/15\n",
      "7/7 [==============================] - 9s 1s/step - loss: 0.0216 - accuracy: 0.9951 - val_loss: 1.8136 - val_accuracy: 0.6000\n",
      "Epoch 15/15\n",
      "7/7 [==============================] - 8s 1s/step - loss: 0.0203 - accuracy: 0.9951 - val_loss: 1.5104 - val_accuracy: 0.6800\n"
     ]
    },
    {
     "data": {
      "text/plain": [
       "<keras.callbacks.History at 0x16cfb11e470>"
      ]
     },
     "execution_count": 2,
     "metadata": {},
     "output_type": "execute_result"
    }
   ],
   "source": [
    "model = keras.Sequential([\n",
    "    layers.Conv2D(32, (3, 3), activation=\"relu\", input_shape=(img_height, img_width, 3)),\n",
    "    layers.MaxPooling2D((2, 2)),\n",
    "    layers.Conv2D(64, (3, 3), activation=\"relu\"),\n",
    "    layers.MaxPooling2D((2, 2)),\n",
    "    layers.Conv2D(64, (3, 3), activation=\"relu\"),\n",
    "    layers.Flatten(),\n",
    "    layers.Dense(64, activation=\"relu\"),\n",
    "    layers.Dense(4, activation=\"softmax\")\n",
    "])\n",
    "\n",
    "model.compile(optimizer=\"adam\",\n",
    "              loss=\"categorical_crossentropy\",\n",
    "              metrics=[\"accuracy\"])\n",
    "\n",
    "model.fit(train_data, epochs=15, validation_data=validation_data)"
   ]
  },
  {
   "cell_type": "code",
   "execution_count": 7,
   "id": "3b9b038b",
   "metadata": {},
   "outputs": [],
   "source": [
    "model.save(\"space_classification_model.h5\")"
   ]
  },
  {
   "cell_type": "code",
   "execution_count": 12,
   "id": "6f02a559",
   "metadata": {},
   "outputs": [
    {
     "name": "stdout",
     "output_type": "stream",
     "text": [
      "1/1 [==============================] - 0s 26ms/step\n"
     ]
    },
    {
     "data": {
      "text/plain": [
       "array([0], dtype=int64)"
      ]
     },
     "execution_count": 12,
     "metadata": {},
     "output_type": "execute_result"
    }
   ],
   "source": [
    "img_path = \"File Rute\"\n",
    "img = image.load_img(img_path, target_size=(img_height, img_width))\n",
    "img = image.img_to_array(img)\n",
    "img = np.expand_dims(img, axis=0)\n",
    "img = img / 255.0\n",
    "\n",
    "predictions = model.predict(img)\n",
    "\n",
    "predicted_class = np.argmax(predictions, axis=1)\n",
    "\n",
    "predicted_class"
   ]
  }
 ],
 "metadata": {
  "kernelspec": {
   "display_name": "Python 3 (ipykernel)",
   "language": "python",
   "name": "python3"
  },
  "language_info": {
   "codemirror_mode": {
    "name": "ipython",
    "version": 3
   },
   "file_extension": ".py",
   "mimetype": "text/x-python",
   "name": "python",
   "nbconvert_exporter": "python",
   "pygments_lexer": "ipython3",
   "version": "3.10.9"
  }
 },
 "nbformat": 4,
 "nbformat_minor": 5
}
